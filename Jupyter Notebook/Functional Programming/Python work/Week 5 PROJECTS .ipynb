{
 "cells": [
  {
   "cell_type": "code",
   "execution_count": 15,
   "id": "6e8d458a",
   "metadata": {},
   "outputs": [
    {
     "name": "stdout",
     "output_type": "stream",
     "text": [
      "Player One wins!\n"
     ]
    }
   ],
   "source": [
    "import random\n",
    "player1 = random.randint(0,9)\n",
    "player2 = random.randint(0,9)\n",
    "sum = player1 + player2\n",
    "if sum%2 == 0:\n",
    "    print(\"Player One wins!\")\n",
    "else:\n",
    "    print(\"Player Two Wins\")"
   ]
  },
  {
   "cell_type": "code",
   "execution_count": 14,
   "id": "85ddc44c",
   "metadata": {},
   "outputs": [
    {
     "ename": "IndentationError",
     "evalue": "expected an indented block (Temp/ipykernel_13732/3254373074.py, line 9)",
     "output_type": "error",
     "traceback": [
      "\u001b[1;36m  File \u001b[1;32m\"C:\\Users\\PRECIO~1\\AppData\\Local\\Temp/ipykernel_13732/3254373074.py\"\u001b[1;36m, line \u001b[1;32m9\u001b[0m\n\u001b[1;33m    if player_one == even:\u001b[0m\n\u001b[1;37m                          ^\u001b[0m\n\u001b[1;31mIndentationError\u001b[0m\u001b[1;31m:\u001b[0m expected an indented block\n"
     ]
    }
   ],
   "source": [
    "print(\"Welcome to READY PLAYER ONE\")\n",
    "player_one = input(\"Odd or Even?\")\n",
    "player_two = input(\"Odd or Even?\")\n",
    "player_one = input(\"Number of fingers extended?\")\n",
    "player_two = input(\"Number of fingers extended?\") \n",
    "print(\"Ok! Make a fist and count to three\")\n",
    "sum = player_one + player_two\n",
    "print (sum)\n",
    "if player_one == even:"
   ]
  },
  {
   "cell_type": "code",
   "execution_count": 18,
   "id": "749fce98",
   "metadata": {},
   "outputs": [
    {
     "name": "stdout",
     "output_type": "stream",
     "text": [
      "25.0\n"
     ]
    }
   ],
   "source": [
    "distance = 50 \n",
    "time = 2 \n",
    "speed = distance/time\n",
    "print(speed)\n"
   ]
  },
  {
   "cell_type": "markdown",
   "id": "93e68402",
   "metadata": {},
   "source": [
    "#### Another way to do the above\n"
   ]
  },
  {
   "cell_type": "code",
   "execution_count": 19,
   "id": "f46a88e3",
   "metadata": {},
   "outputs": [
    {
     "data": {
      "text/plain": [
       "25.0"
      ]
     },
     "execution_count": 19,
     "metadata": {},
     "output_type": "execute_result"
    }
   ],
   "source": [
    "def speed(distance,time):\n",
    "    return(distance/time)\n",
    "speed(50,2)"
   ]
  },
  {
   "cell_type": "code",
   "execution_count": 36,
   "id": "cd024ef5",
   "metadata": {},
   "outputs": [
    {
     "ename": "SyntaxError",
     "evalue": "unexpected EOF while parsing (Temp/ipykernel_13732/3179764783.py, line 4)",
     "output_type": "error",
     "traceback": [
      "\u001b[1;36m  File \u001b[1;32m\"C:\\Users\\PRECIO~1\\AppData\\Local\\Temp/ipykernel_13732/3179764783.py\"\u001b[1;36m, line \u001b[1;32m4\u001b[0m\n\u001b[1;33m    time = int(input((\"Time?\"))\u001b[0m\n\u001b[1;37m                               ^\u001b[0m\n\u001b[1;31mSyntaxError\u001b[0m\u001b[1;31m:\u001b[0m unexpected EOF while parsing\n"
     ]
    }
   ],
   "source": [
    "\n"
   ]
  },
  {
   "cell_type": "code",
   "execution_count": 6,
   "id": "e9f2bb54",
   "metadata": {},
   "outputs": [
    {
     "ename": "SyntaxError",
     "evalue": "invalid syntax (Temp/ipykernel_3516/1542462915.py, line 4)",
     "output_type": "error",
     "traceback": [
      "\u001b[1;36m  File \u001b[1;32m\"C:\\Users\\PRECIO~1\\AppData\\Local\\Temp/ipykernel_3516/1542462915.py\"\u001b[1;36m, line \u001b[1;32m4\u001b[0m\n\u001b[1;33m    if mouse in uses_all\u001b[0m\n\u001b[1;37m                        ^\u001b[0m\n\u001b[1;31mSyntaxError\u001b[0m\u001b[1;31m:\u001b[0m invalid syntax\n"
     ]
    }
   ],
   "source": [
    "def uses_all(m,o,u,s,e):\n",
    "    return(True)\n",
    "word = input(\"mouse\")\n"
   ]
  },
  {
   "cell_type": "code",
   "execution_count": null,
   "id": "8bcb7645",
   "metadata": {},
   "outputs": [],
   "source": []
  }
 ],
 "metadata": {
  "kernelspec": {
   "display_name": "Python 3 (ipykernel)",
   "language": "python",
   "name": "python3"
  },
  "language_info": {
   "codemirror_mode": {
    "name": "ipython",
    "version": 3
   },
   "file_extension": ".py",
   "mimetype": "text/x-python",
   "name": "python",
   "nbconvert_exporter": "python",
   "pygments_lexer": "ipython3",
   "version": "3.9.7"
  }
 },
 "nbformat": 4,
 "nbformat_minor": 5
}
