{
 "cells": [
  {
   "cell_type": "code",
   "execution_count": null,
   "id": "cf2abd51",
   "metadata": {},
   "outputs": [],
   "source": [
    "num = int(input(\"Enter a number to generate its pattern = \"))\n",
    "for i in range(1,num + 1):\n",
    "    for j in range(1,i + 1):\n",
    "        print(j, end = \" \")\n",
    "    print()"
   ]
  },
  {
   "cell_type": "code",
   "execution_count": null,
   "id": "5da7a52d",
   "metadata": {},
   "outputs": [],
   "source": [
    "num = 2\n",
    "for i in range(2, 50):\n",
    "    j = 2\n",
    "    while (j <= (i/2)):\n",
    "        if (i % j == 0):\n",
    "            break\n",
    "        j += 1\n",
    "        if ( j > i/j) :\n",
    "            print (i, \"is a prime number\")\n",
    "print (\"Bye Bye!!\")\n",
    "    "
   ]
  },
  {
   "cell_type": "code",
   "execution_count": null,
   "id": "a81a3682",
   "metadata": {},
   "outputs": [],
   "source": [
    "num = int(input(\"Enter a number: \"))\n",
    "fact = 1\n",
    "if num < 0:\n",
    "       print(\"Sorry, factorial does not exist for negative numbers\")\n",
    "        elif num == 0:\n",
    "            print(\"The factorial of 0 is 1\")\n",
    "else:"
   ]
  }
 ],
 "metadata": {
  "kernelspec": {
   "display_name": "Python 3 (ipykernel)",
   "language": "python",
   "name": "python3"
  },
  "language_info": {
   "codemirror_mode": {
    "name": "ipython",
    "version": 3
   },
   "file_extension": ".py",
   "mimetype": "text/x-python",
   "name": "python",
   "nbconvert_exporter": "python",
   "pygments_lexer": "ipython3",
   "version": "3.9.7"
  }
 },
 "nbformat": 4,
 "nbformat_minor": 5
}
