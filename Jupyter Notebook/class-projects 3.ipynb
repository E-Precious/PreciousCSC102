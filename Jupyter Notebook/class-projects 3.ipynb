{
 "cells": [
  {
   "cell_type": "markdown",
   "id": "fe2e611b",
   "metadata": {},
   "source": [
    "## <marquee>*Esonu Precious*</marquee>\n",
    "#### <u>Matriculation Number</u>: 20120612458\n",
    "#### <u>E-mail</u>: precious.esonu@pau.edu.ng\n",
    "\n",
    "\n",
    "\n",
    "### 1. <u><font color=\"red\">Project One</font></u>\n",
    "   #### Develop the algorithm (pseudocode) and python program to get the difference between a given number and 17, if the number is greater than 17 return double the absolute difference.</font>\n",
    "\n",
    "![Project1 Image](Images/Picture1.png)\n"
   ]
  },
  {
   "cell_type": "markdown",
   "id": "1486091f",
   "metadata": {},
   "source": [
    "###   <u>Project One Pseudocode</u>\n",
    "\n",
    "#### Start\n",
    "#### Stored Data a = 17\n",
    "#### Input x\n",
    "#### Print y = x - a\n",
    "#### If x > 17\n",
    "#### Double = 2y\n",
    "#### Return Double\n",
    "#### Elif x < 17\n",
    "#### Print y\n",
    "#### Stop"
   ]
  },
  {
   "cell_type": "code",
   "execution_count": null,
   "id": "b8b7239e",
   "metadata": {},
   "outputs": [],
   "source": []
  },
  {
   "cell_type": "markdown",
   "id": "2afca886",
   "metadata": {},
   "source": [
    "\n"
   ]
  },
  {
   "cell_type": "markdown",
   "id": "9f67be7a",
   "metadata": {},
   "source": [
    "### 2.<u><font color=\"red\">Project 2</font></u>\n",
    "#### Develop the algorithm (pseudocode) and python program to calculate the sum of three given numbers, if the values are equal then return thrice of their sum\n",
    "![Project2 Image](Images/Picture2.png)\n"
   ]
  },
  {
   "cell_type": "markdown",
   "id": "005fb299",
   "metadata": {},
   "source": [
    "### <u>Project 2 Pseudocode</u>\n",
    "#### Start\n",
    "#### Stored Data x\n",
    "#### Stored Data y\n",
    "#### Stored Data z\n",
    "#### Process sum = x + y + z\n",
    "#### If x = y = z\n",
    "#### Process a = 3 * sum\n",
    "#### Print a\n",
    "#### Elif x != y != z\n",
    "#### Print sum"
   ]
  },
  {
   "cell_type": "code",
   "execution_count": null,
   "id": "548147f8",
   "metadata": {},
   "outputs": [],
   "source": []
  },
  {
   "cell_type": "markdown",
   "id": "1cd7d1c5",
   "metadata": {},
   "source": [
    "\n"
   ]
  },
  {
   "cell_type": "markdown",
   "id": "913af6eb",
   "metadata": {},
   "source": [
    "### 3.<u><font color=\"red\">Project 3</font></u>\n",
    "#### Develop the algorithm (pseudocode) and python program which will return true if the two given integer values are equal or their sum or difference is 5.\n",
    "![Project3](Images/Picture3.png)\n"
   ]
  },
  {
   "cell_type": "markdown",
   "id": "7c25612f",
   "metadata": {},
   "source": [
    "### <u>Project 3 Pseudocode</u>\n",
    "#### Start \n",
    "#### Input x\n",
    "#### Input y\n",
    "#### If x=y\n",
    "#### Print True\n",
    "#### Elif x + y = 5\n",
    "#### Print True\n",
    "#### Elif x - y = 5\n",
    "#### Print True \n",
    "#### Else \n",
    "#### Print False\n"
   ]
  },
  {
   "cell_type": "code",
   "execution_count": null,
   "id": "099f493c",
   "metadata": {},
   "outputs": [],
   "source": []
  },
  {
   "cell_type": "markdown",
   "id": "9fc64a70",
   "metadata": {},
   "source": [
    "### 4.<u><font color=\"red\">Project 4</font></u>\n",
    "#### Develop the algorithm and python program to sort three integers without using conditional statements and loops.\n",
    "![Project4 Image](Images/Picture4.png)"
   ]
  },
  {
   "cell_type": "markdown",
   "id": "33205593",
   "metadata": {},
   "source": [
    "### <u>Project 4 Pseudocode</u>\n",
    "#### Start\n",
    "#### \n",
    "#### \n",
    "#### \n",
    "####\n",
    "####"
   ]
  },
  {
   "cell_type": "code",
   "execution_count": null,
   "id": "70fa0cf3",
   "metadata": {},
   "outputs": [],
   "source": []
  },
  {
   "cell_type": "markdown",
   "id": "e1409d6f",
   "metadata": {},
   "source": [
    "### 5.<u><font color=\"red\">Project 5</font></u>\n",
    "#### Develop the algorithm and python function that takes a positive integer and returns the sum of the cube of all the positive integers smaller than the specified number.\n",
    "![Project5 Image](Images/Picture5.png)"
   ]
  },
  {
   "cell_type": "markdown",
   "id": "4ba0c445",
   "metadata": {},
   "source": [
    "### <u>Project 4 Pseudocode</u>\n",
    "#### Start\n"
   ]
  },
  {
   "cell_type": "code",
   "execution_count": null,
   "id": "8e85a8da",
   "metadata": {},
   "outputs": [],
   "source": []
  },
  {
   "cell_type": "code",
   "execution_count": null,
   "id": "f2d7b7b3",
   "metadata": {},
   "outputs": [],
   "source": []
  }
 ],
 "metadata": {
  "kernelspec": {
   "display_name": "Python 3 (ipykernel)",
   "language": "python",
   "name": "python3"
  },
  "language_info": {
   "codemirror_mode": {
    "name": "ipython",
    "version": 3
   },
   "file_extension": ".py",
   "mimetype": "text/x-python",
   "name": "python",
   "nbconvert_exporter": "python",
   "pygments_lexer": "ipython3",
   "version": "3.9.7"
  }
 },
 "nbformat": 4,
 "nbformat_minor": 5
}
